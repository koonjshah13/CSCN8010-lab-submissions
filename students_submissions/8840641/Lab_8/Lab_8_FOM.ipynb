{
 "cells": [
  {
   "cell_type": "markdown",
   "id": "31fcf0d1",
   "metadata": {},
   "source": [
    "# Koonj Shah"
   ]
  },
  {
   "cell_type": "markdown",
   "id": "15eb1d7c",
   "metadata": {},
   "source": [
    "# ID - 8840641"
   ]
  },
  {
   "cell_type": "markdown",
   "id": "613e558b",
   "metadata": {},
   "source": [
    "Using PyTorch:\n",
    "Calculate the dot product between two vectors each of length 3 (1.5 points)"
   ]
  },
  {
   "cell_type": "code",
   "execution_count": 2,
   "id": "c9fa3cc4",
   "metadata": {},
   "outputs": [
    {
     "name": "stdout",
     "output_type": "stream",
     "text": [
      "Dot product: tensor(32.)\n"
     ]
    }
   ],
   "source": [
    "import torch\n",
    "\n",
    "# Define two vectors of length 3\n",
    "dot1 = torch.tensor([1.0, 2.0, 3.0])\n",
    "dot2 = torch.tensor([4.0, 5.0, 6.0])\n",
    "\n",
    "# Calculate the dot product\n",
    "dot_product = torch.dot(dot1, dot2)\n",
    "\n",
    "# Print the result\n",
    "print(\"Dot product:\", dot_product)"
   ]
  },
  {
   "cell_type": "markdown",
   "id": "3c2d3eb6",
   "metadata": {},
   "source": [
    "Using PyTorch:\n",
    "Calculate the matrix multiplication of two 2-dimensional matrices, each with a size of (2,2)"
   ]
  },
  {
   "cell_type": "code",
   "execution_count": 8,
   "id": "57422e07",
   "metadata": {},
   "outputs": [
    {
     "name": "stdout",
     "output_type": "stream",
     "text": [
      "Matrix product: tensor([[ 159., 2002.],\n",
      "        [ 323., 4070.]])\n"
     ]
    }
   ],
   "source": [
    "# Define two 2x2 matrices\n",
    "mat1 = torch.tensor([[1.0, 22.0], [3.0, 44.0]])\n",
    "mat2 = torch.tensor([[5.0, 66.0], [7.0, 88.0]])\n",
    "\n",
    "# Calculate the matrix multiplication\n",
    "matrix_product = torch.mm(mat1, mat2)\n",
    "\n",
    "# Print the result\n",
    "print(\"Matrix product:\", matrix_product)"
   ]
  },
  {
   "cell_type": "markdown",
   "id": "8037289a",
   "metadata": {},
   "source": [
    "Using Tensorflow:\n",
    "Calculate the dot product between the same vectors as above (re-define them in Tensorflow) (1.5 points)"
   ]
  },
  {
   "cell_type": "code",
   "execution_count": 9,
   "id": "71ac38eb",
   "metadata": {},
   "outputs": [
    {
     "name": "stdout",
     "output_type": "stream",
     "text": [
      "Dot product: tf.Tensor(32.0, shape=(), dtype=float32)\n"
     ]
    }
   ],
   "source": [
    "import tensorflow as tf\n",
    "\n",
    "# Define two TensorFlow vectors of length 3\n",
    "vec1 = tf.constant([1.0, 2.0, 3.0])\n",
    "vec2 = tf.constant([4.0, 5.0, 6.0])\n",
    "\n",
    "# Calculate the dot product\n",
    "dot_product = tf.tensordot(vec1, vec2, axes=1)\n",
    "\n",
    "# Print the result\n",
    "print(\"Dot product:\", dot_product)"
   ]
  },
  {
   "cell_type": "markdown",
   "id": "c7495aa9",
   "metadata": {},
   "source": [
    "Using Tensorflow:\n",
    "Calculate the matrix multiplication of the same matrics as above (re-define them in Tensorflow) (1.5 points)"
   ]
  },
  {
   "cell_type": "code",
   "execution_count": 11,
   "id": "7f4eb138",
   "metadata": {},
   "outputs": [
    {
     "name": "stdout",
     "output_type": "stream",
     "text": [
      "Matrix product: tf.Tensor(\n",
      "[[19. 22.]\n",
      " [43. 50.]], shape=(2, 2), dtype=float32)\n"
     ]
    }
   ],
   "source": [
    "# Define two TensorFlow 2x2 matrices\n",
    "mat1 = tf.constant([[1.0, 2.0], [3.0, 4.0]])\n",
    "mat2 = tf.constant([[5.0, 6.0], [7.0, 8.0]])\n",
    "\n",
    "# Calculate the matrix multiplication\n",
    "matrix_product = tf.linalg.matmul(mat1, mat2)\n",
    "\n",
    "# Print the result\n",
    "print(\"Matrix product:\", matrix_product)"
   ]
  },
  {
   "cell_type": "code",
   "execution_count": null,
   "id": "b329f41c",
   "metadata": {},
   "outputs": [],
   "source": []
  }
 ],
 "metadata": {
  "kernelspec": {
   "display_name": "Python 3 (ipykernel)",
   "language": "python",
   "name": "python3"
  },
  "language_info": {
   "codemirror_mode": {
    "name": "ipython",
    "version": 3
   },
   "file_extension": ".py",
   "mimetype": "text/x-python",
   "name": "python",
   "nbconvert_exporter": "python",
   "pygments_lexer": "ipython3",
   "version": "3.11.3"
  }
 },
 "nbformat": 4,
 "nbformat_minor": 5
}
