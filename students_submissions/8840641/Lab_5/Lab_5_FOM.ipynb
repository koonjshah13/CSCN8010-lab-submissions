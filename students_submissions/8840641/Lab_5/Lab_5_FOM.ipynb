{
 "cells": [
  {
   "cell_type": "markdown",
   "id": "e248338b",
   "metadata": {},
   "source": [
    "# Koonj Shah"
   ]
  },
  {
   "cell_type": "markdown",
   "id": "2f5cbc35",
   "metadata": {},
   "source": [
    "# 8840641 "
   ]
  },
  {
   "cell_type": "markdown",
   "id": "3b726135",
   "metadata": {},
   "source": [
    "# Lab 5"
   ]
  },
  {
   "cell_type": "markdown",
   "id": "0c82d982",
   "metadata": {},
   "source": [
    "Utilize the diabetes dataset from lab 4. Perform cross-validation on nine polynomial models, ranging from degree 0 to 8. (2 points)"
   ]
  },
  {
   "cell_type": "code",
   "execution_count": 24,
   "id": "bcf58eb1",
   "metadata": {},
   "outputs": [],
   "source": [
    "from sklearn.datasets import load_diabetes\n",
    "from sklearn.metrics import mean_absolute_error\n",
    "import matplotlib.pyplot as plt\n",
    "from sklearn.model_selection import cross_val_score\n",
    "from sklearn.linear_model import LinearRegression\n",
    "from sklearn.preprocessing import PolynomialFeatures\n",
    "\n",
    "# Load the diabetes dataset\n",
    "X, y = load_diabetes(as_frame=True, scaled=False, return_X_y=True)"
   ]
  },
  {
   "cell_type": "code",
   "execution_count": 25,
   "id": "6d88048b",
   "metadata": {
    "scrolled": true
   },
   "outputs": [
    {
     "data": {
      "text/html": [
       "<div>\n",
       "<style scoped>\n",
       "    .dataframe tbody tr th:only-of-type {\n",
       "        vertical-align: middle;\n",
       "    }\n",
       "\n",
       "    .dataframe tbody tr th {\n",
       "        vertical-align: top;\n",
       "    }\n",
       "\n",
       "    .dataframe thead th {\n",
       "        text-align: right;\n",
       "    }\n",
       "</style>\n",
       "<table border=\"1\" class=\"dataframe\">\n",
       "  <thead>\n",
       "    <tr style=\"text-align: right;\">\n",
       "      <th></th>\n",
       "      <th>age</th>\n",
       "      <th>sex</th>\n",
       "      <th>bmi</th>\n",
       "      <th>bp</th>\n",
       "      <th>s1</th>\n",
       "      <th>s2</th>\n",
       "      <th>s3</th>\n",
       "      <th>s4</th>\n",
       "      <th>s5</th>\n",
       "      <th>s6</th>\n",
       "    </tr>\n",
       "  </thead>\n",
       "  <tbody>\n",
       "    <tr>\n",
       "      <th>0</th>\n",
       "      <td>59.0</td>\n",
       "      <td>2.0</td>\n",
       "      <td>32.1</td>\n",
       "      <td>101.0</td>\n",
       "      <td>157.0</td>\n",
       "      <td>93.2</td>\n",
       "      <td>38.0</td>\n",
       "      <td>4.0</td>\n",
       "      <td>4.8598</td>\n",
       "      <td>87.0</td>\n",
       "    </tr>\n",
       "    <tr>\n",
       "      <th>1</th>\n",
       "      <td>48.0</td>\n",
       "      <td>1.0</td>\n",
       "      <td>21.6</td>\n",
       "      <td>87.0</td>\n",
       "      <td>183.0</td>\n",
       "      <td>103.2</td>\n",
       "      <td>70.0</td>\n",
       "      <td>3.0</td>\n",
       "      <td>3.8918</td>\n",
       "      <td>69.0</td>\n",
       "    </tr>\n",
       "    <tr>\n",
       "      <th>2</th>\n",
       "      <td>72.0</td>\n",
       "      <td>2.0</td>\n",
       "      <td>30.5</td>\n",
       "      <td>93.0</td>\n",
       "      <td>156.0</td>\n",
       "      <td>93.6</td>\n",
       "      <td>41.0</td>\n",
       "      <td>4.0</td>\n",
       "      <td>4.6728</td>\n",
       "      <td>85.0</td>\n",
       "    </tr>\n",
       "    <tr>\n",
       "      <th>3</th>\n",
       "      <td>24.0</td>\n",
       "      <td>1.0</td>\n",
       "      <td>25.3</td>\n",
       "      <td>84.0</td>\n",
       "      <td>198.0</td>\n",
       "      <td>131.4</td>\n",
       "      <td>40.0</td>\n",
       "      <td>5.0</td>\n",
       "      <td>4.8903</td>\n",
       "      <td>89.0</td>\n",
       "    </tr>\n",
       "    <tr>\n",
       "      <th>4</th>\n",
       "      <td>50.0</td>\n",
       "      <td>1.0</td>\n",
       "      <td>23.0</td>\n",
       "      <td>101.0</td>\n",
       "      <td>192.0</td>\n",
       "      <td>125.4</td>\n",
       "      <td>52.0</td>\n",
       "      <td>4.0</td>\n",
       "      <td>4.2905</td>\n",
       "      <td>80.0</td>\n",
       "    </tr>\n",
       "  </tbody>\n",
       "</table>\n",
       "</div>"
      ],
      "text/plain": [
       "    age  sex   bmi     bp     s1     s2    s3   s4      s5    s6\n",
       "0  59.0  2.0  32.1  101.0  157.0   93.2  38.0  4.0  4.8598  87.0\n",
       "1  48.0  1.0  21.6   87.0  183.0  103.2  70.0  3.0  3.8918  69.0\n",
       "2  72.0  2.0  30.5   93.0  156.0   93.6  41.0  4.0  4.6728  85.0\n",
       "3  24.0  1.0  25.3   84.0  198.0  131.4  40.0  5.0  4.8903  89.0\n",
       "4  50.0  1.0  23.0  101.0  192.0  125.4  52.0  4.0  4.2905  80.0"
      ]
     },
     "execution_count": 25,
     "metadata": {},
     "output_type": "execute_result"
    }
   ],
   "source": [
    "X.head()"
   ]
  },
  {
   "cell_type": "code",
   "execution_count": 26,
   "id": "da69f704",
   "metadata": {},
   "outputs": [
    {
     "data": {
      "text/plain": [
       "0    151.0\n",
       "1     75.0\n",
       "2    141.0\n",
       "3    206.0\n",
       "4    135.0\n",
       "Name: target, dtype: float64"
      ]
     },
     "execution_count": 26,
     "metadata": {},
     "output_type": "execute_result"
    }
   ],
   "source": [
    "y.head()"
   ]
  },
  {
   "cell_type": "code",
   "execution_count": 27,
   "id": "4d422364",
   "metadata": {},
   "outputs": [
    {
     "name": "stdout",
     "output_type": "stream",
     "text": [
      "Degree 0 - Mean Absolute Error: 66.05\n",
      "Degree 1 - Mean Absolute Error: 44.28\n",
      "Degree 2 - Mean Absolute Error: 67.38\n",
      "Degree 3 - Mean Absolute Error: 330.43\n",
      "Degree 4 - Mean Absolute Error: 657.26\n",
      "Degree 5 - Mean Absolute Error: 562.99\n",
      "Degree 6 - Mean Absolute Error: 742.59\n",
      "Degree 7 - Mean Absolute Error: 1032.68\n",
      "Degree 8 - Mean Absolute Error: 1475.66\n",
      "Best Degree: 1\n"
     ]
    }
   ],
   "source": [
    "# Define a function to perform cross-validation for polynomial degrees\n",
    "def cross_val_poly(degree):\n",
    "    # Create a polynomial regression model\n",
    "    model = make_pipeline(PolynomialFeatures(degree), LinearRegression())\n",
    "\n",
    "    # Perform cross-validation and calculate the mean absolute error\n",
    "    mae_scores = -cross_val_score(model, X, y, cv=5, scoring='neg_mean_absolute_error')\n",
    "\n",
    "    return mae_scores\n",
    "\n",
    "# Perform cross-validation for degrees 0 to 8\n",
    "degree_range = range(9)\n",
    "mae_scores = [cross_val_poly(degree) for degree in degree_range]\n",
    "\n",
    "# Print the mean absolute errors for each degree\n",
    "for degree, scores in zip(degree_range, mae_scores):\n",
    "    print(f'Degree {degree} - Mean Absolute Error: {scores.mean():.2f}')\n",
    "\n",
    "# Find the degree with the lowest mean absolute error\n",
    "best_degree = min(degree_range, key=lambda i: mae_scores[i].mean())\n",
    "print(f'Best Degree: {best_degree}')"
   ]
  },
  {
   "cell_type": "code",
   "execution_count": 28,
   "id": "ae8d2af9",
   "metadata": {},
   "outputs": [
    {
     "data": {
      "image/png": "[encoded data removed]",
      "text/plain": [
       "<Figure size 640x480 with 1 Axes>"
      ]
     },
     "metadata": {},
     "output_type": "display_data"
    }
   ],
   "source": [
    "# You can also plot the mean absolute errors for each degree\n",
    "plt.plot(degree_range, [scores.mean() for scores in mae_scores], marker='o')\n",
    "plt.xlabel('Polynomial Degree')\n",
    "plt.ylabel('Mean Absolute Error')\n",
    "plt.title('Cross-Validation Mean Absolute Error for Different Polynomial Degrees')\n",
    "plt.show()"
   ]
  },
  {
   "cell_type": "code",
   "execution_count": null,
   "id": "ca87350c",
   "metadata": {},
   "outputs": [],
   "source": []
  },
  {
   "cell_type": "markdown",
   "id": "c9645c14",
   "metadata": {},
   "source": [
    "Construct a table summarizing the cross-validation results. Each model should have a separate row in the table. Include the R-Squared and Mean Absolute Error (MAE) metrics for each model. Calculate the mean value and standard deviation of these metrics from the cross-validation. Include both values. (2 points)"
   ]
  },
  {
   "cell_type": "code",
   "execution_count": 29,
   "id": "7acdbcef",
   "metadata": {},
   "outputs": [
    {
     "name": "stdout",
     "output_type": "stream",
     "text": [
      "   Degree  R-squared Mean  R-squared Std     MAE Mean     MAE Std\n",
      "0       0       -0.027506       0.036772   -66.045624    3.474660\n",
      "1       1        0.482316       0.049269   -44.276499    2.100110\n",
      "2       2       -0.859464       1.700703   -67.383310   22.688947\n",
      "3       3     -199.796495     226.976670  -330.432376  147.820568\n",
      "4       4     -571.083108     369.891883  -657.260477  159.475902\n",
      "5       5     -436.856887     379.100423  -562.993636   59.917202\n",
      "6       6    -1694.222101    2629.834958  -742.589052  190.836052\n",
      "7       7    -5530.894075    9518.586954 -1032.681725  393.439617\n",
      "8       8   -16076.255117   28049.952579 -1475.658532  706.280274\n"
     ]
    }
   ],
   "source": [
    "import pandas as pd\n",
    "from sklearn.datasets import load_diabetes\n",
    "from sklearn.metrics import mean_absolute_error, make_scorer, r2_score\n",
    "from sklearn.model_selection import cross_val_score\n",
    "from sklearn.linear_model import LinearRegression\n",
    "from sklearn.preprocessing import PolynomialFeatures\n",
    "\n",
    "# Load the diabetes dataset\n",
    "X, y = load_diabetes(as_frame=True, scaled=False, return_X_y=True)\n",
    "\n",
    "# Define a function to perform cross-validation for polynomial degrees\n",
    "def cross_val_metrics(degree):\n",
    "    # Create a polynomial regression model\n",
    "    model = make_pipeline(PolynomialFeatures(degree), LinearRegression())\n",
    "\n",
    "    # Perform cross-validation and calculate R-squared and MAE\n",
    "    r2_scores = cross_val_score(model, X, y, cv=5, scoring=make_scorer(r2_score))\n",
    "    mae_scores = -cross_val_score(model, X, y, cv=5, scoring=make_scorer(mean_absolute_error))\n",
    "\n",
    "    return {\n",
    "        'Degree': degree,\n",
    "        'R-squared Mean': r2_scores.mean(),\n",
    "        'R-squared Std': r2_scores.std(),\n",
    "        'MAE Mean': mae_scores.mean(),\n",
    "        'MAE Std': mae_scores.std()\n",
    "    }\n",
    "\n",
    "# Create a list of results for degrees 0 to 8\n",
    "results = [cross_val_metrics(degree) for degree in range(9)]\n",
    "\n",
    "# Create a DataFrame to display the results\n",
    "results_df = pd.DataFrame(results)\n",
    "\n",
    "# Print the results table\n",
    "print(results_df)"
   ]
  },
  {
   "cell_type": "markdown",
   "id": "216ff1b9",
   "metadata": {},
   "source": [
    "Identification of the Best Model: Identify the model that exhibits the highest performance based on the R-Squared and MAE metrics. Provide an explanation for choosing this specific model"
   ]
  },
  {
   "cell_type": "code",
   "execution_count": 30,
   "id": "c404c4c8",
   "metadata": {},
   "outputs": [
    {
     "name": "stdout",
     "output_type": "stream",
     "text": [
      "   Degree  R-squared Mean  R-squared Std     MAE Mean     MAE Std\n",
      "1       1        0.482316       0.049269   -44.276499    2.100110\n",
      "0       0       -0.027506       0.036772   -66.045624    3.474660\n",
      "2       2       -0.859464       1.700703   -67.383310   22.688947\n",
      "3       3     -199.796495     226.976670  -330.432376  147.820568\n",
      "5       5     -436.856887     379.100423  -562.993636   59.917202\n",
      "4       4     -571.083108     369.891883  -657.260477  159.475902\n",
      "6       6    -1694.222101    2629.834958  -742.589052  190.836052\n",
      "7       7    -5530.894075    9518.586954 -1032.681725  393.439617\n",
      "8       8   -16076.255117   28049.952579 -1475.658532  706.280274\n",
      "Best Model:\n",
      "Degree             1.000000\n",
      "R-squared Mean     0.482316\n",
      "R-squared Std      0.049269\n",
      "MAE Mean         -44.276499\n",
      "MAE Std            2.100110\n",
      "Name: 1, dtype: float64\n"
     ]
    }
   ],
   "source": [
    "# Sort the results DataFrame by R-squared (highest to lowest) and then by MAE (lowest to highest)\n",
    "sorted_results = results_df.sort_values(by=['R-squared Mean', 'MAE Mean'], ascending=[False, True])\n",
    "\n",
    "# Print the sorted results\n",
    "print(sorted_results)\n",
    "\n",
    "# Choose the best model based on your criteria\n",
    "best_model = sorted_results.iloc[0]\n",
    "\n",
    "# Print the best model\n",
    "print(\"Best Model:\")\n",
    "print(best_model)"
   ]
  },
  {
   "cell_type": "markdown",
   "id": "f7e04568",
   "metadata": {},
   "source": [
    "This piece of code organizes the results in the DataFrame based on two essential metrics, R-Squared and MAE. Initially, it arranges them in descending order of R-Squared, with the highest values listed first. This is indicative of how well a model fits the data. Afterward, within the same R-Squared values, it further organizes the models in ascending order of MAE, with the lowest values positioned at the top. This suggests how accurately a model makes predictions.\n",
    "\n",
    "The selection of the best model is made by considering both of these metrics. The optimal model will possess the highest R-Squared, indicating its ability to explain a substantial portion of the data's variance and its excellent fit to the data. Simultaneously, it will have the lowest MAE, signifying that it can make precise predictions with minimal errors.\n",
    "\n",
    "It's crucial to understand that the choice of the best model can be influenced by the specific objectives of your analysis. If the primary aim is to find a model that closely represents the data (goodness of fit),we would lean towards the model with the highest R-Squared. Alternatively, if the primary concern is accurate prediction, We would favor the model with the lowest MAE."
   ]
  },
  {
   "cell_type": "code",
   "execution_count": null,
   "id": "6aaad208",
   "metadata": {},
   "outputs": [],
   "source": []
  }
 ],
 "metadata": {
  "kernelspec": {
   "display_name": "Python 3 (ipykernel)",
   "language": "python",
   "name": "python3"
  },
  "language_info": {
   "codemirror_mode": {
    "name": "ipython",
    "version": 3
   },
   "file_extension": ".py",
   "mimetype": "text/x-python",
   "name": "python",
   "nbconvert_exporter": "python",
   "pygments_lexer": "ipython3",
   "version": "3.11.3"
  }
 },
 "nbformat": 4,
 "nbformat_minor": 5
}
